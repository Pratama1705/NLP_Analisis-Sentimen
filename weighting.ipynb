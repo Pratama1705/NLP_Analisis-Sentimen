{
  "cells": [
    {
      "cell_type": "code",
      "execution_count": 19,
      "metadata": {
        "id": "y5XrnltoFkLY"
      },
      "outputs": [],
      "source": [
        "import pandas as pd"
      ]
    },
    {
      "cell_type": "code",
      "execution_count": 20,
      "metadata": {
        "colab": {
          "base_uri": "https://localhost:8080/",
          "height": 423
        },
        "id": "qunh10CfGeCe",
        "outputId": "86a714c1-c744-4d92-9254-b702c738caa0"
      },
      "outputs": [
        {
          "data": {
            "text/html": [
              "<div>\n",
              "<style scoped>\n",
              "    .dataframe tbody tr th:only-of-type {\n",
              "        vertical-align: middle;\n",
              "    }\n",
              "\n",
              "    .dataframe tbody tr th {\n",
              "        vertical-align: top;\n",
              "    }\n",
              "\n",
              "    .dataframe thead th {\n",
              "        text-align: right;\n",
              "    }\n",
              "</style>\n",
              "<table border=\"1\" class=\"dataframe\">\n",
              "  <thead>\n",
              "    <tr style=\"text-align: right;\">\n",
              "      <th></th>\n",
              "      <th>tweet_clean</th>\n",
              "      <th>label</th>\n",
              "    </tr>\n",
              "  </thead>\n",
              "  <tbody>\n",
              "    <tr>\n",
              "      <th>0</th>\n",
              "      <td>['ken', 'tau', 'ranking', 'pasca', 'thomas', '...</td>\n",
              "      <td>P</td>\n",
              "    </tr>\n",
              "    <tr>\n",
              "      <th>1</th>\n",
              "      <td>['bravo', 'india', 'winners', 'thomas', 'cup',...</td>\n",
              "      <td>NT</td>\n",
              "    </tr>\n",
              "    <tr>\n",
              "      <th>2</th>\n",
              "      <td>['lee', 'chong', 'wei', 'ga', 'juara', 'thomas...</td>\n",
              "      <td>P</td>\n",
              "    </tr>\n",
              "    <tr>\n",
              "      <th>3</th>\n",
              "      <td>['udh', 'gk', 'benernya', 'mata', 'kyknya', 'u...</td>\n",
              "      <td>N</td>\n",
              "    </tr>\n",
              "    <tr>\n",
              "      <th>4</th>\n",
              "      <td>['iya', 'zelin', 'resiana', 'ex', 'wd', 'juara...</td>\n",
              "      <td>NT</td>\n",
              "    </tr>\n",
              "    <tr>\n",
              "      <th>...</th>\n",
              "      <td>...</td>\n",
              "      <td>...</td>\n",
              "    </tr>\n",
              "    <tr>\n",
              "      <th>442</th>\n",
              "      <td>['indonesia', 'menang', 'thomas', 'cup', 'sea'...</td>\n",
              "      <td>P</td>\n",
              "    </tr>\n",
              "    <tr>\n",
              "      <th>443</th>\n",
              "      <td>['india', 'has', 'beaten', 'indonesia', 'to', ...</td>\n",
              "      <td>NT</td>\n",
              "    </tr>\n",
              "    <tr>\n",
              "      <th>444</th>\n",
              "      <td>['tuan', 'nyonya', 'shesar', 'hiren', 'rhustav...</td>\n",
              "      <td>P</td>\n",
              "    </tr>\n",
              "    <tr>\n",
              "      <th>445</th>\n",
              "      <td>['nnton', 'thomas', 'cup', 'nnton', 'nya', 'ma...</td>\n",
              "      <td>NT</td>\n",
              "    </tr>\n",
              "    <tr>\n",
              "      <th>446</th>\n",
              "      <td>['hasil', 'semifinal', 'japan', 'korea', 'thom...</td>\n",
              "      <td>NT</td>\n",
              "    </tr>\n",
              "  </tbody>\n",
              "</table>\n",
              "<p>447 rows × 2 columns</p>\n",
              "</div>"
            ],
            "text/plain": [
              "                                           tweet_clean label\n",
              "0    ['ken', 'tau', 'ranking', 'pasca', 'thomas', '...     P\n",
              "1    ['bravo', 'india', 'winners', 'thomas', 'cup',...    NT\n",
              "2    ['lee', 'chong', 'wei', 'ga', 'juara', 'thomas...     P\n",
              "3    ['udh', 'gk', 'benernya', 'mata', 'kyknya', 'u...     N\n",
              "4    ['iya', 'zelin', 'resiana', 'ex', 'wd', 'juara...    NT\n",
              "..                                                 ...   ...\n",
              "442  ['indonesia', 'menang', 'thomas', 'cup', 'sea'...     P\n",
              "443  ['india', 'has', 'beaten', 'indonesia', 'to', ...    NT\n",
              "444  ['tuan', 'nyonya', 'shesar', 'hiren', 'rhustav...     P\n",
              "445  ['nnton', 'thomas', 'cup', 'nnton', 'nya', 'ma...    NT\n",
              "446  ['hasil', 'semifinal', 'japan', 'korea', 'thom...    NT\n",
              "\n",
              "[447 rows x 2 columns]"
            ]
          },
          "execution_count": 20,
          "metadata": {},
          "output_type": "execute_result"
        }
      ],
      "source": [
        "df = pd.read_csv('./Dataset/data_bersih_label_v2.csv')\n",
        "df"
      ]
    },
    {
      "cell_type": "code",
      "execution_count": 21,
      "metadata": {
        "id": "Bp7FqeuH9qNq"
      },
      "outputs": [],
      "source": [
        "x = df['tweet_clean']\n",
        "y = df['label']"
      ]
    },
    {
      "cell_type": "code",
      "execution_count": 22,
      "metadata": {
        "id": "BCX_-cqzF5EJ"
      },
      "outputs": [
        {
          "name": "stdout",
          "output_type": "stream",
          "text": [
            "  (0, 4294)\t0.2001929610617684\n",
            "  (0, 723)\t0.2415882272938789\n",
            "  (0, 30)\t0.2415882272938789\n",
            "  (0, 101)\t0.2415882272938789\n",
            "  (0, 885)\t0.2415882272938789\n",
            "  (0, 5619)\t0.11603211048967946\n",
            "  (0, 5376)\t0.13483389559806264\n",
            "  (0, 4120)\t0.2001929610617684\n",
            "  (0, 4422)\t0.2415882272938789\n",
            "  (0, 5184)\t0.2415882272938789\n",
            "  (0, 2781)\t0.2415882272938789\n",
            "  (0, 4290)\t0.1710594791213803\n",
            "  (0, 722)\t0.2415882272938789\n",
            "  (0, 29)\t0.2415882272938789\n",
            "  (0, 100)\t0.2415882272938789\n",
            "  (0, 881)\t0.03776379536872808\n",
            "  (0, 5617)\t0.11159409339400951\n",
            "  (0, 5360)\t0.03776379536872808\n",
            "  (0, 4119)\t0.2001929610617684\n",
            "  (0, 4415)\t0.35470801878963826\n",
            "  (0, 5182)\t0.20706276350361838\n",
            "  (0, 2779)\t0.22631046618461878\n",
            "  (1, 1229)\t0.26677731462903165\n",
            "  (1, 3306)\t0.25399930286508315\n",
            "  (1, 790)\t0.26677731462903165\n",
            "  :\t:\n",
            "  (445, 3886)\t0.6573727902500854\n",
            "  (445, 3329)\t0.2817136996408516\n",
            "  (445, 3932)\t0.21897811944673132\n",
            "  (445, 5362)\t0.05593298769494319\n",
            "  (445, 881)\t0.0513785208204204\n",
            "  (445, 5360)\t0.0513785208204204\n",
            "  (446, 2410)\t0.27318422246029345\n",
            "  (446, 5624)\t0.27318422246029345\n",
            "  (446, 2408)\t0.27318422246029345\n",
            "  (446, 4753)\t0.27318422246029345\n",
            "  (446, 1987)\t0.27318422246029345\n",
            "  (446, 1104)\t0.2559083670251263\n",
            "  (446, 4887)\t0.22637509709095274\n",
            "  (446, 2934)\t0.2559083670251263\n",
            "  (446, 4750)\t0.17101589464826308\n",
            "  (446, 5414)\t0.21411768259194627\n",
            "  (446, 2923)\t0.1772623024791348\n",
            "  (446, 5397)\t0.1275634256955403\n",
            "  (446, 1972)\t0.17507682333206992\n",
            "  (446, 2407)\t0.42823536518389255\n",
            "  (446, 5619)\t0.13120731187778814\n",
            "  (446, 5376)\t0.15246807902374301\n",
            "  (446, 881)\t0.04270271441002869\n",
            "  (446, 5617)\t0.252377741883255\n",
            "  (446, 5360)\t0.04270271441002869\n"
          ]
        }
      ],
      "source": [
        "from sklearn.feature_extraction.text import TfidfVectorizer\n",
        "\n",
        "vectorizer = TfidfVectorizer(ngram_range=(1, 2))\n",
        "\n",
        "x = vectorizer.fit_transform(x)\n",
        "\n",
        "print(x)"
      ]
    },
    {
      "cell_type": "code",
      "execution_count": 23,
      "metadata": {
        "id": "-3fHmOQKG8Gh"
      },
      "outputs": [],
      "source": [
        "from imblearn.over_sampling import SMOTE\n",
        "\n",
        "x_resampled, y_resampled = SMOTE().fit_resample(x, y)"
      ]
    },
    {
      "cell_type": "code",
      "execution_count": 24,
      "metadata": {
        "id": "BnATzE3Y9HQe"
      },
      "outputs": [],
      "source": [
        "from sklearn.model_selection import train_test_split\n",
        "\n",
        "X_train, X_test, y_train, y_test = train_test_split(x_resampled, y_resampled, test_size=0.2, stratify=y_resampled, random_state=0)"
      ]
    },
    {
      "cell_type": "code",
      "execution_count": 25,
      "metadata": {
        "colab": {
          "base_uri": "https://localhost:8080/"
        },
        "id": "3ccL3f8a96Ga",
        "outputId": "a6bbc8a8-0ccc-4d98-d5b8-216af75ee4e2"
      },
      "outputs": [
        {
          "name": "stdout",
          "output_type": "stream",
          "text": [
            "(537, 6026)\n",
            "(135, 6026)\n"
          ]
        }
      ],
      "source": [
        "print(X_train.shape)\n",
        "print(X_test.shape)"
      ]
    },
    {
      "cell_type": "code",
      "execution_count": 26,
      "metadata": {
        "id": "oqezZSRbH76U"
      },
      "outputs": [],
      "source": [
        "from sklearn import svm\n",
        "\n",
        "clf = svm.SVC(kernel='linear')"
      ]
    },
    {
      "cell_type": "code",
      "execution_count": 27,
      "metadata": {
        "id": "bzCfuM5cJ5Rv"
      },
      "outputs": [],
      "source": [
        "clf.fit(X_train, y_train)\n",
        "predict = clf.predict(X_test)"
      ]
    },
    {
      "cell_type": "code",
      "execution_count": 28,
      "metadata": {
        "id": "lWi0GrVIK67f"
      },
      "outputs": [],
      "source": [
        "from sklearn.metrics import f1_score, recall_score, precision_score, confusion_matrix, accuracy_score"
      ]
    },
    {
      "cell_type": "code",
      "execution_count": 29,
      "metadata": {
        "colab": {
          "base_uri": "https://localhost:8080/"
        },
        "id": "N3jAJQYEKL5I",
        "outputId": "1f5af678-6960-4cf1-ae21-9952a3c0a212"
      },
      "outputs": [
        {
          "name": "stdout",
          "output_type": "stream",
          "text": [
            "0.8222222222222222\n"
          ]
        }
      ],
      "source": [
        "print(accuracy_score(y_test, predict))"
      ]
    },
    {
      "cell_type": "code",
      "execution_count": 30,
      "metadata": {
        "colab": {
          "base_uri": "https://localhost:8080/"
        },
        "id": "TH5zZdEQMQW1",
        "outputId": "23e98408-c18a-4c8a-bddd-0daa694caa3e"
      },
      "outputs": [
        {
          "name": "stdout",
          "output_type": "stream",
          "text": [
            "[[43  1  1]\n",
            " [ 0 34 11]\n",
            " [ 2  9 34]]\n"
          ]
        }
      ],
      "source": [
        "print(confusion_matrix(y_test, predict))"
      ]
    },
    {
      "cell_type": "code",
      "execution_count": 31,
      "metadata": {},
      "outputs": [],
      "source": [
        "from sklearn.metrics import accuracy_score, precision_score, recall_score, roc_auc_score\n",
        "\n",
        "def evaluasi(model, x_train, y_train, x_test, y_test) :\n",
        "    prediksi_train = model.predict(x_train)\n",
        "    prediksi_test = model.predict(x_test)\n",
        "    print('Akurasi data latih = {}'.format(accuracy_score(y_train, prediksi_train)))\n",
        "    print('Akurasi presisi data latih = {}'.format(precision_score(y_train, prediksi_train, average='macro')))\n",
        "    print('Akurasi recall data latih = {}'.format(recall_score(y_train, prediksi_train, average='macro')))\n",
        "    print(\"================================================\")\n",
        "    print('Akurasi data uji = {}'.format(accuracy_score(y_test, prediksi_test)))\n",
        "    print('Akurasi presisi data uji = {}'.format(precision_score(y_test, prediksi_test, average='macro')))\n",
        "    print('Akurasi recall data uji = {}'.format(recall_score(y_test, prediksi_test, average='macro')))"
      ]
    },
    {
      "cell_type": "code",
      "execution_count": 32,
      "metadata": {},
      "outputs": [],
      "source": [
        "def show_best_hyperparameter(model, hyperparameters):\n",
        "    for key, value in hyperparameters.items() :\n",
        "        print('Best '+key+':', model.get_params()[key])"
      ]
    },
    {
      "cell_type": "code",
      "execution_count": 34,
      "metadata": {},
      "outputs": [
        {
          "name": "stderr",
          "output_type": "stream",
          "text": [
            "c:\\Users\\USER\\AppData\\Local\\Programs\\Python\\Python39\\lib\\site-packages\\sklearn\\model_selection\\_validation.py:770: UserWarning: Scoring failed. The score on this train-test partition for these parameters will be set to nan. Details: \n",
            "Traceback (most recent call last):\n",
            "  File \"c:\\Users\\USER\\AppData\\Local\\Programs\\Python\\Python39\\lib\\site-packages\\sklearn\\model_selection\\_validation.py\", line 761, in _score\n",
            "    scores = scorer(estimator, X_test, y_test)\n",
            "  File \"c:\\Users\\USER\\AppData\\Local\\Programs\\Python\\Python39\\lib\\site-packages\\sklearn\\metrics\\_scorer.py\", line 216, in __call__\n",
            "    return self._score(\n",
            "  File \"c:\\Users\\USER\\AppData\\Local\\Programs\\Python\\Python39\\lib\\site-packages\\sklearn\\metrics\\_scorer.py\", line 258, in _score\n",
            "    y_pred = method_caller(estimator, \"predict\", X)\n",
            "  File \"c:\\Users\\USER\\AppData\\Local\\Programs\\Python\\Python39\\lib\\site-packages\\sklearn\\metrics\\_scorer.py\", line 68, in _cached_call\n",
            "    return getattr(estimator, method)(*args, **kwargs)\n",
            "  File \"c:\\Users\\USER\\AppData\\Local\\Programs\\Python\\Python39\\lib\\site-packages\\sklearn\\svm\\_base.py\", line 780, in predict\n",
            "    raise ValueError(\n",
            "ValueError: break_ties must be False when decision_function_shape is 'ovo'\n",
            "\n",
            "  warnings.warn(\n",
            "c:\\Users\\USER\\AppData\\Local\\Programs\\Python\\Python39\\lib\\site-packages\\sklearn\\model_selection\\_validation.py:770: UserWarning: Scoring failed. The score on this train-test partition for these parameters will be set to nan. Details: \n",
            "Traceback (most recent call last):\n",
            "  File \"c:\\Users\\USER\\AppData\\Local\\Programs\\Python\\Python39\\lib\\site-packages\\sklearn\\model_selection\\_validation.py\", line 761, in _score\n",
            "    scores = scorer(estimator, X_test, y_test)\n",
            "  File \"c:\\Users\\USER\\AppData\\Local\\Programs\\Python\\Python39\\lib\\site-packages\\sklearn\\metrics\\_scorer.py\", line 216, in __call__\n",
            "    return self._score(\n",
            "  File \"c:\\Users\\USER\\AppData\\Local\\Programs\\Python\\Python39\\lib\\site-packages\\sklearn\\metrics\\_scorer.py\", line 258, in _score\n",
            "    y_pred = method_caller(estimator, \"predict\", X)\n",
            "  File \"c:\\Users\\USER\\AppData\\Local\\Programs\\Python\\Python39\\lib\\site-packages\\sklearn\\metrics\\_scorer.py\", line 68, in _cached_call\n",
            "    return getattr(estimator, method)(*args, **kwargs)\n",
            "  File \"c:\\Users\\USER\\AppData\\Local\\Programs\\Python\\Python39\\lib\\site-packages\\sklearn\\svm\\_base.py\", line 780, in predict\n",
            "    raise ValueError(\n",
            "ValueError: break_ties must be False when decision_function_shape is 'ovo'\n",
            "\n",
            "  warnings.warn(\n",
            "c:\\Users\\USER\\AppData\\Local\\Programs\\Python\\Python39\\lib\\site-packages\\sklearn\\model_selection\\_validation.py:770: UserWarning: Scoring failed. The score on this train-test partition for these parameters will be set to nan. Details: \n",
            "Traceback (most recent call last):\n",
            "  File \"c:\\Users\\USER\\AppData\\Local\\Programs\\Python\\Python39\\lib\\site-packages\\sklearn\\model_selection\\_validation.py\", line 761, in _score\n",
            "    scores = scorer(estimator, X_test, y_test)\n",
            "  File \"c:\\Users\\USER\\AppData\\Local\\Programs\\Python\\Python39\\lib\\site-packages\\sklearn\\metrics\\_scorer.py\", line 216, in __call__\n",
            "    return self._score(\n",
            "  File \"c:\\Users\\USER\\AppData\\Local\\Programs\\Python\\Python39\\lib\\site-packages\\sklearn\\metrics\\_scorer.py\", line 258, in _score\n",
            "    y_pred = method_caller(estimator, \"predict\", X)\n",
            "  File \"c:\\Users\\USER\\AppData\\Local\\Programs\\Python\\Python39\\lib\\site-packages\\sklearn\\metrics\\_scorer.py\", line 68, in _cached_call\n",
            "    return getattr(estimator, method)(*args, **kwargs)\n",
            "  File \"c:\\Users\\USER\\AppData\\Local\\Programs\\Python\\Python39\\lib\\site-packages\\sklearn\\svm\\_base.py\", line 780, in predict\n",
            "    raise ValueError(\n",
            "ValueError: break_ties must be False when decision_function_shape is 'ovo'\n",
            "\n",
            "  warnings.warn(\n",
            "c:\\Users\\USER\\AppData\\Local\\Programs\\Python\\Python39\\lib\\site-packages\\sklearn\\model_selection\\_validation.py:770: UserWarning: Scoring failed. The score on this train-test partition for these parameters will be set to nan. Details: \n",
            "Traceback (most recent call last):\n",
            "  File \"c:\\Users\\USER\\AppData\\Local\\Programs\\Python\\Python39\\lib\\site-packages\\sklearn\\model_selection\\_validation.py\", line 761, in _score\n",
            "    scores = scorer(estimator, X_test, y_test)\n",
            "  File \"c:\\Users\\USER\\AppData\\Local\\Programs\\Python\\Python39\\lib\\site-packages\\sklearn\\metrics\\_scorer.py\", line 216, in __call__\n",
            "    return self._score(\n",
            "  File \"c:\\Users\\USER\\AppData\\Local\\Programs\\Python\\Python39\\lib\\site-packages\\sklearn\\metrics\\_scorer.py\", line 258, in _score\n",
            "    y_pred = method_caller(estimator, \"predict\", X)\n",
            "  File \"c:\\Users\\USER\\AppData\\Local\\Programs\\Python\\Python39\\lib\\site-packages\\sklearn\\metrics\\_scorer.py\", line 68, in _cached_call\n",
            "    return getattr(estimator, method)(*args, **kwargs)\n",
            "  File \"c:\\Users\\USER\\AppData\\Local\\Programs\\Python\\Python39\\lib\\site-packages\\sklearn\\svm\\_base.py\", line 780, in predict\n",
            "    raise ValueError(\n",
            "ValueError: break_ties must be False when decision_function_shape is 'ovo'\n",
            "\n",
            "  warnings.warn(\n",
            "c:\\Users\\USER\\AppData\\Local\\Programs\\Python\\Python39\\lib\\site-packages\\sklearn\\model_selection\\_validation.py:770: UserWarning: Scoring failed. The score on this train-test partition for these parameters will be set to nan. Details: \n",
            "Traceback (most recent call last):\n",
            "  File \"c:\\Users\\USER\\AppData\\Local\\Programs\\Python\\Python39\\lib\\site-packages\\sklearn\\model_selection\\_validation.py\", line 761, in _score\n",
            "    scores = scorer(estimator, X_test, y_test)\n",
            "  File \"c:\\Users\\USER\\AppData\\Local\\Programs\\Python\\Python39\\lib\\site-packages\\sklearn\\metrics\\_scorer.py\", line 216, in __call__\n",
            "    return self._score(\n",
            "  File \"c:\\Users\\USER\\AppData\\Local\\Programs\\Python\\Python39\\lib\\site-packages\\sklearn\\metrics\\_scorer.py\", line 258, in _score\n",
            "    y_pred = method_caller(estimator, \"predict\", X)\n",
            "  File \"c:\\Users\\USER\\AppData\\Local\\Programs\\Python\\Python39\\lib\\site-packages\\sklearn\\metrics\\_scorer.py\", line 68, in _cached_call\n",
            "    return getattr(estimator, method)(*args, **kwargs)\n",
            "  File \"c:\\Users\\USER\\AppData\\Local\\Programs\\Python\\Python39\\lib\\site-packages\\sklearn\\svm\\_base.py\", line 780, in predict\n",
            "    raise ValueError(\n",
            "ValueError: break_ties must be False when decision_function_shape is 'ovo'\n",
            "\n",
            "  warnings.warn(\n",
            "c:\\Users\\USER\\AppData\\Local\\Programs\\Python\\Python39\\lib\\site-packages\\sklearn\\model_selection\\_validation.py:770: UserWarning: Scoring failed. The score on this train-test partition for these parameters will be set to nan. Details: \n",
            "Traceback (most recent call last):\n",
            "  File \"c:\\Users\\USER\\AppData\\Local\\Programs\\Python\\Python39\\lib\\site-packages\\sklearn\\model_selection\\_validation.py\", line 761, in _score\n",
            "    scores = scorer(estimator, X_test, y_test)\n",
            "  File \"c:\\Users\\USER\\AppData\\Local\\Programs\\Python\\Python39\\lib\\site-packages\\sklearn\\metrics\\_scorer.py\", line 216, in __call__\n",
            "    return self._score(\n",
            "  File \"c:\\Users\\USER\\AppData\\Local\\Programs\\Python\\Python39\\lib\\site-packages\\sklearn\\metrics\\_scorer.py\", line 258, in _score\n",
            "    y_pred = method_caller(estimator, \"predict\", X)\n",
            "  File \"c:\\Users\\USER\\AppData\\Local\\Programs\\Python\\Python39\\lib\\site-packages\\sklearn\\metrics\\_scorer.py\", line 68, in _cached_call\n",
            "    return getattr(estimator, method)(*args, **kwargs)\n",
            "  File \"c:\\Users\\USER\\AppData\\Local\\Programs\\Python\\Python39\\lib\\site-packages\\sklearn\\svm\\_base.py\", line 780, in predict\n",
            "    raise ValueError(\n",
            "ValueError: break_ties must be False when decision_function_shape is 'ovo'\n",
            "\n",
            "  warnings.warn(\n",
            "c:\\Users\\USER\\AppData\\Local\\Programs\\Python\\Python39\\lib\\site-packages\\sklearn\\model_selection\\_validation.py:770: UserWarning: Scoring failed. The score on this train-test partition for these parameters will be set to nan. Details: \n",
            "Traceback (most recent call last):\n",
            "  File \"c:\\Users\\USER\\AppData\\Local\\Programs\\Python\\Python39\\lib\\site-packages\\sklearn\\model_selection\\_validation.py\", line 761, in _score\n",
            "    scores = scorer(estimator, X_test, y_test)\n",
            "  File \"c:\\Users\\USER\\AppData\\Local\\Programs\\Python\\Python39\\lib\\site-packages\\sklearn\\metrics\\_scorer.py\", line 216, in __call__\n",
            "    return self._score(\n",
            "  File \"c:\\Users\\USER\\AppData\\Local\\Programs\\Python\\Python39\\lib\\site-packages\\sklearn\\metrics\\_scorer.py\", line 258, in _score\n",
            "    y_pred = method_caller(estimator, \"predict\", X)\n",
            "  File \"c:\\Users\\USER\\AppData\\Local\\Programs\\Python\\Python39\\lib\\site-packages\\sklearn\\metrics\\_scorer.py\", line 68, in _cached_call\n",
            "    return getattr(estimator, method)(*args, **kwargs)\n",
            "  File \"c:\\Users\\USER\\AppData\\Local\\Programs\\Python\\Python39\\lib\\site-packages\\sklearn\\svm\\_base.py\", line 780, in predict\n",
            "    raise ValueError(\n",
            "ValueError: break_ties must be False when decision_function_shape is 'ovo'\n",
            "\n",
            "  warnings.warn(\n",
            "c:\\Users\\USER\\AppData\\Local\\Programs\\Python\\Python39\\lib\\site-packages\\sklearn\\model_selection\\_validation.py:770: UserWarning: Scoring failed. The score on this train-test partition for these parameters will be set to nan. Details: \n",
            "Traceback (most recent call last):\n",
            "  File \"c:\\Users\\USER\\AppData\\Local\\Programs\\Python\\Python39\\lib\\site-packages\\sklearn\\model_selection\\_validation.py\", line 761, in _score\n",
            "    scores = scorer(estimator, X_test, y_test)\n",
            "  File \"c:\\Users\\USER\\AppData\\Local\\Programs\\Python\\Python39\\lib\\site-packages\\sklearn\\metrics\\_scorer.py\", line 216, in __call__\n",
            "    return self._score(\n",
            "  File \"c:\\Users\\USER\\AppData\\Local\\Programs\\Python\\Python39\\lib\\site-packages\\sklearn\\metrics\\_scorer.py\", line 258, in _score\n",
            "    y_pred = method_caller(estimator, \"predict\", X)\n",
            "  File \"c:\\Users\\USER\\AppData\\Local\\Programs\\Python\\Python39\\lib\\site-packages\\sklearn\\metrics\\_scorer.py\", line 68, in _cached_call\n",
            "    return getattr(estimator, method)(*args, **kwargs)\n",
            "  File \"c:\\Users\\USER\\AppData\\Local\\Programs\\Python\\Python39\\lib\\site-packages\\sklearn\\svm\\_base.py\", line 780, in predict\n",
            "    raise ValueError(\n",
            "ValueError: break_ties must be False when decision_function_shape is 'ovo'\n",
            "\n",
            "  warnings.warn(\n",
            "c:\\Users\\USER\\AppData\\Local\\Programs\\Python\\Python39\\lib\\site-packages\\sklearn\\model_selection\\_validation.py:770: UserWarning: Scoring failed. The score on this train-test partition for these parameters will be set to nan. Details: \n",
            "Traceback (most recent call last):\n",
            "  File \"c:\\Users\\USER\\AppData\\Local\\Programs\\Python\\Python39\\lib\\site-packages\\sklearn\\model_selection\\_validation.py\", line 761, in _score\n",
            "    scores = scorer(estimator, X_test, y_test)\n",
            "  File \"c:\\Users\\USER\\AppData\\Local\\Programs\\Python\\Python39\\lib\\site-packages\\sklearn\\metrics\\_scorer.py\", line 216, in __call__\n",
            "    return self._score(\n",
            "  File \"c:\\Users\\USER\\AppData\\Local\\Programs\\Python\\Python39\\lib\\site-packages\\sklearn\\metrics\\_scorer.py\", line 258, in _score\n",
            "    y_pred = method_caller(estimator, \"predict\", X)\n",
            "  File \"c:\\Users\\USER\\AppData\\Local\\Programs\\Python\\Python39\\lib\\site-packages\\sklearn\\metrics\\_scorer.py\", line 68, in _cached_call\n",
            "    return getattr(estimator, method)(*args, **kwargs)\n",
            "  File \"c:\\Users\\USER\\AppData\\Local\\Programs\\Python\\Python39\\lib\\site-packages\\sklearn\\svm\\_base.py\", line 780, in predict\n",
            "    raise ValueError(\n",
            "ValueError: break_ties must be False when decision_function_shape is 'ovo'\n",
            "\n",
            "  warnings.warn(\n",
            "c:\\Users\\USER\\AppData\\Local\\Programs\\Python\\Python39\\lib\\site-packages\\sklearn\\model_selection\\_validation.py:770: UserWarning: Scoring failed. The score on this train-test partition for these parameters will be set to nan. Details: \n",
            "Traceback (most recent call last):\n",
            "  File \"c:\\Users\\USER\\AppData\\Local\\Programs\\Python\\Python39\\lib\\site-packages\\sklearn\\model_selection\\_validation.py\", line 761, in _score\n",
            "    scores = scorer(estimator, X_test, y_test)\n",
            "  File \"c:\\Users\\USER\\AppData\\Local\\Programs\\Python\\Python39\\lib\\site-packages\\sklearn\\metrics\\_scorer.py\", line 216, in __call__\n",
            "    return self._score(\n",
            "  File \"c:\\Users\\USER\\AppData\\Local\\Programs\\Python\\Python39\\lib\\site-packages\\sklearn\\metrics\\_scorer.py\", line 258, in _score\n",
            "    y_pred = method_caller(estimator, \"predict\", X)\n",
            "  File \"c:\\Users\\USER\\AppData\\Local\\Programs\\Python\\Python39\\lib\\site-packages\\sklearn\\metrics\\_scorer.py\", line 68, in _cached_call\n",
            "    return getattr(estimator, method)(*args, **kwargs)\n",
            "  File \"c:\\Users\\USER\\AppData\\Local\\Programs\\Python\\Python39\\lib\\site-packages\\sklearn\\svm\\_base.py\", line 780, in predict\n",
            "    raise ValueError(\n",
            "ValueError: break_ties must be False when decision_function_shape is 'ovo'\n",
            "\n",
            "  warnings.warn(\n",
            "c:\\Users\\USER\\AppData\\Local\\Programs\\Python\\Python39\\lib\\site-packages\\sklearn\\model_selection\\_search.py:969: UserWarning: One or more of the test scores are non-finite: [0.4647802  0.4647802  0.4647802         nan 0.4647802  0.44626168\n",
            " 0.8288162  0.84176186 0.38700242        nan]\n",
            "  warnings.warn(\n"
          ]
        },
        {
          "name": "stdout",
          "output_type": "stream",
          "text": [
            "Akurasi data latih = 0.994413407821229\n",
            "Akurasi presisi data latih = 0.9944236371202663\n",
            "Akurasi recall data latih = 0.994413407821229\n",
            "================================================\n",
            "Akurasi data uji = 0.8222222222222222\n",
            "Akurasi presisi data uji = 0.8224710876884789\n",
            "Akurasi recall data uji = 0.8222222222222223\n",
            "===============================\n"
          ]
        }
      ],
      "source": [
        "from sklearn.svm import SVC\n",
        "from sklearn.model_selection import RandomizedSearchCV\n",
        "\n",
        "hyperparameters = dict(\n",
        "    C = [0.001, 0.01, 0.1, 1.0],\n",
        "    kernel = ['linear', 'poly', 'rbf', 'sigmoid'],\n",
        "    degree = [1, 2, 3, 4, 5],\n",
        "    gamma = ['scale', 'auto'],\n",
        "    coef0 = [0.0, 0.01, 0.02, 0.1, 0.2],\n",
        "    decision_function_shape = ['ovo', 'ovr'],\n",
        "    probability = [True, False],\n",
        "    break_ties = [True, False]\n",
        ")\n",
        "\n",
        "clf = RandomizedSearchCV(SVC(), hyperparameters, random_state=42, cv=5, scoring='accuracy')\n",
        "\n",
        "clf.fit(X_train, y_train)\n",
        "\n",
        "evaluasi(clf, X_train, y_train, X_test, y_test)\n",
        "print('===============================')\n",
        "# show_best_hyperparameter(clf, hyperparameters)"
      ]
    },
    {
      "cell_type": "code",
      "execution_count": null,
      "metadata": {},
      "outputs": [],
      "source": []
    }
  ],
  "metadata": {
    "colab": {
      "collapsed_sections": [],
      "name": "weighting.ipynb",
      "provenance": []
    },
    "interpreter": {
      "hash": "1d5c1156327dacead463cc502c55ebae8ce9c8c01979cf154173ff808e75bf55"
    },
    "kernelspec": {
      "display_name": "Python 3.9.6 64-bit",
      "language": "python",
      "name": "python3"
    },
    "language_info": {
      "codemirror_mode": {
        "name": "ipython",
        "version": 3
      },
      "file_extension": ".py",
      "mimetype": "text/x-python",
      "name": "python",
      "nbconvert_exporter": "python",
      "pygments_lexer": "ipython3",
      "version": "3.9.6"
    }
  },
  "nbformat": 4,
  "nbformat_minor": 0
}
